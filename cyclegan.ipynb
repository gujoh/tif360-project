{
 "cells": [
  {
   "cell_type": "code",
   "execution_count": 1,
   "metadata": {},
   "outputs": [],
   "source": [
    "# Imports\n",
    "import torch\n",
    "import torch.nn as nn \n",
    "from torchvision import transforms\n",
    "import numpy as np\n",
    "from  matplotlib import pyplot as plt\n",
    "import torch.nn.functional as F\n",
    "import time\n",
    "from utils import get_data, show_batch"
   ]
  },
  {
   "cell_type": "code",
   "execution_count": 2,
   "metadata": {},
   "outputs": [],
   "source": [
    "# Class for storing things such as learning rate, image size...\n",
    "class Args:\n",
    "    def __init__(self):\n",
    "        self.lr = 2e-4\n",
    "        self.epochs = 200\n",
    "        self.b1 = 0.5\n",
    "        self.b2 = 0.999\n",
    "        self.latent_dim = 100\n",
    "        self.img_size = 64\n",
    "        self.pixels = int(self.img_size ** 2)\n",
    "        self.channels = 3\n",
    "        self.img_tuple = (self.channels, self.img_size, self.img_size)\n",
    "        self.batch_size = 32\n",
    "        self.g_fmap_size = 64 \n",
    "        self.d_fmap_size = 64\n",
    "        self.d_loss_threshold = 0.05"
   ]
  },
  {
   "cell_type": "code",
   "execution_count": 3,
   "metadata": {},
   "outputs": [],
   "source": [
    "# Loading the images.\n",
    "device = torch.device('cuda' if torch.cuda.is_available() else 'cpu')\n",
    "args = Args()\n",
    "transform = transforms.Compose([transforms.Resize(args.img_size),\n",
    "                                transforms.CenterCrop(args.img_size),\n",
    "                                transforms.ToTensor(),\n",
    "                                transforms.Normalize((0.5, 0.5, 0.5), (0.5, 0.5, 0.5))])\n",
    "paintings, photos, painting_loader, photo_loader = get_data(transform=transform, batch_size=args.batch_size)"
   ]
  },
  {
   "cell_type": "code",
   "execution_count": null,
   "metadata": {},
   "outputs": [],
   "source": [
    "# Defining the CycleGAN. \n",
    "class ResidualBlock(nn.Module):\n",
    "    "
   ]
  }
 ],
 "metadata": {
  "kernelspec": {
   "display_name": ".venv",
   "language": "python",
   "name": "python3"
  },
  "language_info": {
   "codemirror_mode": {
    "name": "ipython",
    "version": 3
   },
   "file_extension": ".py",
   "mimetype": "text/x-python",
   "name": "python",
   "nbconvert_exporter": "python",
   "pygments_lexer": "ipython3",
   "version": "3.12.2"
  }
 },
 "nbformat": 4,
 "nbformat_minor": 2
}
